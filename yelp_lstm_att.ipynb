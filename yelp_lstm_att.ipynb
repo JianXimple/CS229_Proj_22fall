{
  "cells": [
    {
      "cell_type": "code",
      "execution_count": null,
      "metadata": {
        "id": "A4q3usjGoe3y"
      },
      "outputs": [],
      "source": [
        "import pandas as pd\n",
        "import numpy as np\n",
        "import matplotlib.pyplot as plt\n",
        "import seaborn as sns\n",
        "from sklearn.model_selection import train_test_split\n",
        "from sklearn.preprocessing import LabelEncoder\n",
        "from keras.models import Model\n",
        "from keras.layers import LSTM, Activation, Dense, Dropout, Input, Embedding\n",
        "from keras.optimizers import RMSprop\n",
        "from keras.preprocessing.text import Tokenizer\n",
        "from keras.preprocessing import sequence\n",
        "from keras.utils import to_categorical\n",
        "from keras.callbacks import EarlyStopping\n",
        "%matplotlib inline"
      ]
    },
    {
      "cell_type": "code",
      "execution_count": null,
      "metadata": {
        "colab": {
          "base_uri": "https://localhost:8080/",
          "height": 405
        },
        "id": "ZYeKeiOfo0gm",
        "outputId": "c98c723f-8969-4957-a8ed-8f6fd6469f3c"
      },
      "outputs": [
        {
          "output_type": "stream",
          "name": "stderr",
          "text": [
            "<ipython-input-2-6ad443c123a4>:12: SettingWithCopyWarning: \n",
            "A value is trying to be set on a copy of a slice from a DataFrame\n",
            "\n",
            "See the caveats in the documentation: https://pandas.pydata.org/pandas-docs/stable/user_guide/indexing.html#returning-a-view-versus-a-copy\n",
            "  review_df[\"stars\"][idx]=d[review_df[\"stars\"][idx]]\n",
            "/usr/local/lib/python3.8/dist-packages/pandas/core/indexing.py:1732: SettingWithCopyWarning: \n",
            "A value is trying to be set on a copy of a slice from a DataFrame\n",
            "\n",
            "See the caveats in the documentation: https://pandas.pydata.org/pandas-docs/stable/user_guide/indexing.html#returning-a-view-versus-a-copy\n",
            "  self._setitem_single_block(indexer, value, name)\n"
          ]
        },
        {
          "output_type": "execute_result",
          "data": {
            "text/plain": [
              "  sentiment                                               text\n",
              "0       neu  If you decide to eat here, just be aware it is...\n",
              "1       pos  I've taken a lot of spin classes over the year...\n",
              "2       neu  Family diner. Had the buffet. Eclectic assortm...\n",
              "3       pos  Wow!  Yummy, different,  delicious.   Our favo...\n",
              "4       pos  Cute interior and owner (?) gave us tour of up..."
            ],
            "text/html": [
              "\n",
              "  <div id=\"df-d01b1df8-adfa-4954-b2ca-e2e63665f3b1\">\n",
              "    <div class=\"colab-df-container\">\n",
              "      <div>\n",
              "<style scoped>\n",
              "    .dataframe tbody tr th:only-of-type {\n",
              "        vertical-align: middle;\n",
              "    }\n",
              "\n",
              "    .dataframe tbody tr th {\n",
              "        vertical-align: top;\n",
              "    }\n",
              "\n",
              "    .dataframe thead th {\n",
              "        text-align: right;\n",
              "    }\n",
              "</style>\n",
              "<table border=\"1\" class=\"dataframe\">\n",
              "  <thead>\n",
              "    <tr style=\"text-align: right;\">\n",
              "      <th></th>\n",
              "      <th>sentiment</th>\n",
              "      <th>text</th>\n",
              "    </tr>\n",
              "  </thead>\n",
              "  <tbody>\n",
              "    <tr>\n",
              "      <th>0</th>\n",
              "      <td>neu</td>\n",
              "      <td>If you decide to eat here, just be aware it is...</td>\n",
              "    </tr>\n",
              "    <tr>\n",
              "      <th>1</th>\n",
              "      <td>pos</td>\n",
              "      <td>I've taken a lot of spin classes over the year...</td>\n",
              "    </tr>\n",
              "    <tr>\n",
              "      <th>2</th>\n",
              "      <td>neu</td>\n",
              "      <td>Family diner. Had the buffet. Eclectic assortm...</td>\n",
              "    </tr>\n",
              "    <tr>\n",
              "      <th>3</th>\n",
              "      <td>pos</td>\n",
              "      <td>Wow!  Yummy, different,  delicious.   Our favo...</td>\n",
              "    </tr>\n",
              "    <tr>\n",
              "      <th>4</th>\n",
              "      <td>pos</td>\n",
              "      <td>Cute interior and owner (?) gave us tour of up...</td>\n",
              "    </tr>\n",
              "  </tbody>\n",
              "</table>\n",
              "</div>\n",
              "      <button class=\"colab-df-convert\" onclick=\"convertToInteractive('df-d01b1df8-adfa-4954-b2ca-e2e63665f3b1')\"\n",
              "              title=\"Convert this dataframe to an interactive table.\"\n",
              "              style=\"display:none;\">\n",
              "        \n",
              "  <svg xmlns=\"http://www.w3.org/2000/svg\" height=\"24px\"viewBox=\"0 0 24 24\"\n",
              "       width=\"24px\">\n",
              "    <path d=\"M0 0h24v24H0V0z\" fill=\"none\"/>\n",
              "    <path d=\"M18.56 5.44l.94 2.06.94-2.06 2.06-.94-2.06-.94-.94-2.06-.94 2.06-2.06.94zm-11 1L8.5 8.5l.94-2.06 2.06-.94-2.06-.94L8.5 2.5l-.94 2.06-2.06.94zm10 10l.94 2.06.94-2.06 2.06-.94-2.06-.94-.94-2.06-.94 2.06-2.06.94z\"/><path d=\"M17.41 7.96l-1.37-1.37c-.4-.4-.92-.59-1.43-.59-.52 0-1.04.2-1.43.59L10.3 9.45l-7.72 7.72c-.78.78-.78 2.05 0 2.83L4 21.41c.39.39.9.59 1.41.59.51 0 1.02-.2 1.41-.59l7.78-7.78 2.81-2.81c.8-.78.8-2.07 0-2.86zM5.41 20L4 18.59l7.72-7.72 1.47 1.35L5.41 20z\"/>\n",
              "  </svg>\n",
              "      </button>\n",
              "      \n",
              "  <style>\n",
              "    .colab-df-container {\n",
              "      display:flex;\n",
              "      flex-wrap:wrap;\n",
              "      gap: 12px;\n",
              "    }\n",
              "\n",
              "    .colab-df-convert {\n",
              "      background-color: #E8F0FE;\n",
              "      border: none;\n",
              "      border-radius: 50%;\n",
              "      cursor: pointer;\n",
              "      display: none;\n",
              "      fill: #1967D2;\n",
              "      height: 32px;\n",
              "      padding: 0 0 0 0;\n",
              "      width: 32px;\n",
              "    }\n",
              "\n",
              "    .colab-df-convert:hover {\n",
              "      background-color: #E2EBFA;\n",
              "      box-shadow: 0px 1px 2px rgba(60, 64, 67, 0.3), 0px 1px 3px 1px rgba(60, 64, 67, 0.15);\n",
              "      fill: #174EA6;\n",
              "    }\n",
              "\n",
              "    [theme=dark] .colab-df-convert {\n",
              "      background-color: #3B4455;\n",
              "      fill: #D2E3FC;\n",
              "    }\n",
              "\n",
              "    [theme=dark] .colab-df-convert:hover {\n",
              "      background-color: #434B5C;\n",
              "      box-shadow: 0px 1px 3px 1px rgba(0, 0, 0, 0.15);\n",
              "      filter: drop-shadow(0px 1px 2px rgba(0, 0, 0, 0.3));\n",
              "      fill: #FFFFFF;\n",
              "    }\n",
              "  </style>\n",
              "\n",
              "      <script>\n",
              "        const buttonEl =\n",
              "          document.querySelector('#df-d01b1df8-adfa-4954-b2ca-e2e63665f3b1 button.colab-df-convert');\n",
              "        buttonEl.style.display =\n",
              "          google.colab.kernel.accessAllowed ? 'block' : 'none';\n",
              "\n",
              "        async function convertToInteractive(key) {\n",
              "          const element = document.querySelector('#df-d01b1df8-adfa-4954-b2ca-e2e63665f3b1');\n",
              "          const dataTable =\n",
              "            await google.colab.kernel.invokeFunction('convertToInteractive',\n",
              "                                                     [key], {});\n",
              "          if (!dataTable) return;\n",
              "\n",
              "          const docLinkHtml = 'Like what you see? Visit the ' +\n",
              "            '<a target=\"_blank\" href=https://colab.research.google.com/notebooks/data_table.ipynb>data table notebook</a>'\n",
              "            + ' to learn more about interactive tables.';\n",
              "          element.innerHTML = '';\n",
              "          dataTable['output_type'] = 'display_data';\n",
              "          await google.colab.output.renderOutput(dataTable, element);\n",
              "          const docLink = document.createElement('div');\n",
              "          docLink.innerHTML = docLinkHtml;\n",
              "          element.appendChild(docLink);\n",
              "        }\n",
              "      </script>\n",
              "    </div>\n",
              "  </div>\n",
              "  "
            ]
          },
          "metadata": {},
          "execution_count": 2
        }
      ],
      "source": [
        "import json\n",
        "import pandas as pd\n",
        "data_file = open(\"./drive/MyDrive/yelp_academic_dataset_review.json\")\n",
        "data = []\n",
        "for line in data_file:\n",
        "    data.append(json.loads(line))\n",
        "review_df = pd.DataFrame(data)\n",
        "data_file.close()\n",
        "review_df=review_df.drop([\"review_id\",\"user_id\",\"business_id\",\"useful\",\"funny\",\"cool\",\"date\"],axis=1)\n",
        "d={1.0:\"neg\",2.0:\"neg\",3.0:\"neu\",4.0:\"pos\",5.0:\"pos\"}\n",
        "for idx in review_df.index:\n",
        "    review_df[\"stars\"][idx]=d[review_df[\"stars\"][idx]]\n",
        "review_df.rename(columns = {'stars':'sentiment'}, inplace = True)\n",
        "df=review_df\n",
        "df.head()"
      ]
    },
    {
      "cell_type": "code",
      "source": [
        "pos_df=df[df.sentiment==\"pos\"]\n",
        "neg_df=df[df.sentiment==\"neg\"]\n",
        "neu_df=df[df.sentiment==\"neu\"]\n",
        "print(pos_df.size)\n",
        "print(neg_df.size)\n",
        "my_pos=pos_df[:23803*2]\n",
        "my_neg=neg_df[:14098*2]\n",
        "my_neu=neu_df[:10005*2]\n",
        "print(my_pos.size)\n",
        "print(my_neg.size)\n",
        "my_df=pd.concat([my_pos, my_neg,my_neu])\n",
        "print(my_df.size)"
      ],
      "metadata": {
        "colab": {
          "base_uri": "https://localhost:8080/"
        },
        "id": "5tI2TzGtKD9f",
        "outputId": "8d1ab43b-6452-4a1e-c62a-f8f9ceea7f6e"
      },
      "execution_count": null,
      "outputs": [
        {
          "output_type": "stream",
          "name": "stdout",
          "text": [
            "9369090\n",
            "3227602\n",
            "95212\n",
            "56392\n",
            "191624\n"
          ]
        }
      ]
    },
    {
      "cell_type": "code",
      "source": [
        "#my_df.head()\n",
        "final_df=my_df.sample(frac=1)\n",
        "final_df.head()\n",
        "final_df.to_csv(\"my_review.csv\")"
      ],
      "metadata": {
        "id": "rEVtRKK-M0ez"
      },
      "execution_count": null,
      "outputs": []
    },
    {
      "cell_type": "code",
      "source": [
        "compression_opts = dict(method='zip',\n",
        "                        archive_name='out_3.csv')  \n",
        "final_df.to_csv('./drive/MyDrive/out_3.zip', index=False,\n",
        "          compression=compression_opts) "
      ],
      "metadata": {
        "id": "faSLm-iROmWd"
      },
      "execution_count": null,
      "outputs": []
    },
    {
      "cell_type": "code",
      "source": [
        "t=final_df[final_df.sentiment==\"neg\"]\n",
        "t.size"
      ],
      "metadata": {
        "colab": {
          "base_uri": "https://localhost:8080/"
        },
        "id": "krpF7K-gNbYH",
        "outputId": "686cbc85-86ee-45b5-d29b-3004d4c4d3bb"
      },
      "execution_count": null,
      "outputs": [
        {
          "output_type": "execute_result",
          "data": {
            "text/plain": [
              "56392"
            ]
          },
          "metadata": {},
          "execution_count": 24
        }
      ]
    },
    {
      "cell_type": "code",
      "source": [
        "final_df.head()"
      ],
      "metadata": {
        "colab": {
          "base_uri": "https://localhost:8080/",
          "height": 206
        },
        "id": "BC5iKjujOEgI",
        "outputId": "45474dbe-a2fa-4848-b870-9108e7e39868"
      },
      "execution_count": null,
      "outputs": [
        {
          "output_type": "execute_result",
          "data": {
            "text/plain": [
              "      sentiment                                               text\n",
              "9653        pos  Great service and phenomenal dessert. The gooe...\n",
              "51224       pos  Ok, so I have no reason to go to this hotel be...\n",
              "5395        pos  As expected, the donuts were AMAZING. My husba...\n",
              "2454        pos  The best Beignet's. Hands down. This great sho...\n",
              "41976       pos  If you can get an egg on it... get an egg on i..."
            ],
            "text/html": [
              "\n",
              "  <div id=\"df-b1fe01f4-7ff7-4c49-bd82-472660e8a3be\">\n",
              "    <div class=\"colab-df-container\">\n",
              "      <div>\n",
              "<style scoped>\n",
              "    .dataframe tbody tr th:only-of-type {\n",
              "        vertical-align: middle;\n",
              "    }\n",
              "\n",
              "    .dataframe tbody tr th {\n",
              "        vertical-align: top;\n",
              "    }\n",
              "\n",
              "    .dataframe thead th {\n",
              "        text-align: right;\n",
              "    }\n",
              "</style>\n",
              "<table border=\"1\" class=\"dataframe\">\n",
              "  <thead>\n",
              "    <tr style=\"text-align: right;\">\n",
              "      <th></th>\n",
              "      <th>sentiment</th>\n",
              "      <th>text</th>\n",
              "    </tr>\n",
              "  </thead>\n",
              "  <tbody>\n",
              "    <tr>\n",
              "      <th>9653</th>\n",
              "      <td>pos</td>\n",
              "      <td>Great service and phenomenal dessert. The gooe...</td>\n",
              "    </tr>\n",
              "    <tr>\n",
              "      <th>51224</th>\n",
              "      <td>pos</td>\n",
              "      <td>Ok, so I have no reason to go to this hotel be...</td>\n",
              "    </tr>\n",
              "    <tr>\n",
              "      <th>5395</th>\n",
              "      <td>pos</td>\n",
              "      <td>As expected, the donuts were AMAZING. My husba...</td>\n",
              "    </tr>\n",
              "    <tr>\n",
              "      <th>2454</th>\n",
              "      <td>pos</td>\n",
              "      <td>The best Beignet's. Hands down. This great sho...</td>\n",
              "    </tr>\n",
              "    <tr>\n",
              "      <th>41976</th>\n",
              "      <td>pos</td>\n",
              "      <td>If you can get an egg on it... get an egg on i...</td>\n",
              "    </tr>\n",
              "  </tbody>\n",
              "</table>\n",
              "</div>\n",
              "      <button class=\"colab-df-convert\" onclick=\"convertToInteractive('df-b1fe01f4-7ff7-4c49-bd82-472660e8a3be')\"\n",
              "              title=\"Convert this dataframe to an interactive table.\"\n",
              "              style=\"display:none;\">\n",
              "        \n",
              "  <svg xmlns=\"http://www.w3.org/2000/svg\" height=\"24px\"viewBox=\"0 0 24 24\"\n",
              "       width=\"24px\">\n",
              "    <path d=\"M0 0h24v24H0V0z\" fill=\"none\"/>\n",
              "    <path d=\"M18.56 5.44l.94 2.06.94-2.06 2.06-.94-2.06-.94-.94-2.06-.94 2.06-2.06.94zm-11 1L8.5 8.5l.94-2.06 2.06-.94-2.06-.94L8.5 2.5l-.94 2.06-2.06.94zm10 10l.94 2.06.94-2.06 2.06-.94-2.06-.94-.94-2.06-.94 2.06-2.06.94z\"/><path d=\"M17.41 7.96l-1.37-1.37c-.4-.4-.92-.59-1.43-.59-.52 0-1.04.2-1.43.59L10.3 9.45l-7.72 7.72c-.78.78-.78 2.05 0 2.83L4 21.41c.39.39.9.59 1.41.59.51 0 1.02-.2 1.41-.59l7.78-7.78 2.81-2.81c.8-.78.8-2.07 0-2.86zM5.41 20L4 18.59l7.72-7.72 1.47 1.35L5.41 20z\"/>\n",
              "  </svg>\n",
              "      </button>\n",
              "      \n",
              "  <style>\n",
              "    .colab-df-container {\n",
              "      display:flex;\n",
              "      flex-wrap:wrap;\n",
              "      gap: 12px;\n",
              "    }\n",
              "\n",
              "    .colab-df-convert {\n",
              "      background-color: #E8F0FE;\n",
              "      border: none;\n",
              "      border-radius: 50%;\n",
              "      cursor: pointer;\n",
              "      display: none;\n",
              "      fill: #1967D2;\n",
              "      height: 32px;\n",
              "      padding: 0 0 0 0;\n",
              "      width: 32px;\n",
              "    }\n",
              "\n",
              "    .colab-df-convert:hover {\n",
              "      background-color: #E2EBFA;\n",
              "      box-shadow: 0px 1px 2px rgba(60, 64, 67, 0.3), 0px 1px 3px 1px rgba(60, 64, 67, 0.15);\n",
              "      fill: #174EA6;\n",
              "    }\n",
              "\n",
              "    [theme=dark] .colab-df-convert {\n",
              "      background-color: #3B4455;\n",
              "      fill: #D2E3FC;\n",
              "    }\n",
              "\n",
              "    [theme=dark] .colab-df-convert:hover {\n",
              "      background-color: #434B5C;\n",
              "      box-shadow: 0px 1px 3px 1px rgba(0, 0, 0, 0.15);\n",
              "      filter: drop-shadow(0px 1px 2px rgba(0, 0, 0, 0.3));\n",
              "      fill: #FFFFFF;\n",
              "    }\n",
              "  </style>\n",
              "\n",
              "      <script>\n",
              "        const buttonEl =\n",
              "          document.querySelector('#df-b1fe01f4-7ff7-4c49-bd82-472660e8a3be button.colab-df-convert');\n",
              "        buttonEl.style.display =\n",
              "          google.colab.kernel.accessAllowed ? 'block' : 'none';\n",
              "\n",
              "        async function convertToInteractive(key) {\n",
              "          const element = document.querySelector('#df-b1fe01f4-7ff7-4c49-bd82-472660e8a3be');\n",
              "          const dataTable =\n",
              "            await google.colab.kernel.invokeFunction('convertToInteractive',\n",
              "                                                     [key], {});\n",
              "          if (!dataTable) return;\n",
              "\n",
              "          const docLinkHtml = 'Like what you see? Visit the ' +\n",
              "            '<a target=\"_blank\" href=https://colab.research.google.com/notebooks/data_table.ipynb>data table notebook</a>'\n",
              "            + ' to learn more about interactive tables.';\n",
              "          element.innerHTML = '';\n",
              "          dataTable['output_type'] = 'display_data';\n",
              "          await google.colab.output.renderOutput(dataTable, element);\n",
              "          const docLink = document.createElement('div');\n",
              "          docLink.innerHTML = docLinkHtml;\n",
              "          element.appendChild(docLink);\n",
              "        }\n",
              "      </script>\n",
              "    </div>\n",
              "  </div>\n",
              "  "
            ]
          },
          "metadata": {},
          "execution_count": 25
        }
      ]
    },
    {
      "cell_type": "code",
      "source": [
        "df=pd.read_csv('./drive/MyDrive/out.csv')\n",
        "#df=df[:20000]\n"
      ],
      "metadata": {
        "id": "yfMYEnb4PJqs"
      },
      "execution_count": null,
      "outputs": []
    },
    {
      "cell_type": "code",
      "source": [
        "sns.factorplot(x=\"sentiment\", data=df, kind=\"count\", size=6, aspect=1.5, palette=\"PuBuGn_d\")\n",
        "plt.show();"
      ],
      "metadata": {
        "colab": {
          "base_uri": "https://localhost:8080/",
          "height": 532
        },
        "id": "BphbYJHfKRDP",
        "outputId": "b2f53ab3-3816-4e4e-c8ae-e1f8b00562d1"
      },
      "execution_count": null,
      "outputs": [
        {
          "output_type": "stream",
          "name": "stderr",
          "text": [
            "/usr/local/lib/python3.8/dist-packages/seaborn/categorical.py:3717: UserWarning: The `factorplot` function has been renamed to `catplot`. The original name will be removed in a future release. Please update your code. Note that the default `kind` in `factorplot` (`'point'`) has changed `'strip'` in `catplot`.\n",
            "  warnings.warn(msg)\n",
            "/usr/local/lib/python3.8/dist-packages/seaborn/categorical.py:3723: UserWarning: The `size` parameter has been renamed to `height`; please update your code.\n",
            "  warnings.warn(msg, UserWarning)\n"
          ]
        },
        {
          "output_type": "display_data",
          "data": {
            "text/plain": [
              "<Figure size 648x432 with 1 Axes>"
            ],
            "image/png": "[encoded data removed]"
          },
          "metadata": {
            "needs_background": "light"
          }
        }
      ]
    },
    {
      "cell_type": "code",
      "execution_count": null,
      "metadata": {
        "id": "IlEaO4Bi1tyw"
      },
      "outputs": [],
      "source": [
        "X = df.text\n",
        "Y = df.sentiment\n",
        "le = LabelEncoder()\n",
        "Y = le.fit_transform(Y)\n",
        "Y = Y.reshape(-1,1)\n",
        "X_train,X_test,Y_train,Y_test = train_test_split(X,Y,test_size=0.1)"
      ]
    },
    {
      "cell_type": "code",
      "source": [
        "Y_train"
      ],
      "metadata": {
        "colab": {
          "base_uri": "https://localhost:8080/"
        },
        "id": "ZX0Chu4dQDTW",
        "outputId": "c6a7a101-5a3a-4ef5-9ca0-c3f35fc227c2"
      },
      "execution_count": null,
      "outputs": [
        {
          "output_type": "execute_result",
          "data": {
            "text/plain": [
              "array([[1],\n",
              "       [1],\n",
              "       [1],\n",
              "       ...,\n",
              "       [0],\n",
              "       [0],\n",
              "       [1]])"
            ]
          },
          "metadata": {},
          "execution_count": 98
        }
      ]
    },
    {
      "cell_type": "code",
      "execution_count": null,
      "metadata": {
        "id": "XPtDmFUO1zf3"
      },
      "outputs": [],
      "source": [
        "from keras.utils import pad_sequences\n",
        "max_words = 1000\n",
        "max_len = 150\n",
        "tok = Tokenizer(num_words=max_words)\n",
        "tok.fit_on_texts(X_train)\n",
        "sequences = tok.texts_to_sequences(X_train)\n",
        "sequences_matrix = pad_sequences(sequences,maxlen=max_len)"
      ]
    },
    {
      "cell_type": "code",
      "execution_count": null,
      "metadata": {
        "id": "vW6hCsJN13Rh"
      },
      "outputs": [],
      "source": [
        "SINGLE_ATTENTION_VECTOR = False\n",
        "APPLY_ATTENTION_BEFORE_LSTM = False\n",
        "def attention_3d_block(inputs):\n",
        "    # inputs.shape = (batch_size, time_steps, input_dim)\n",
        "    input_dim = int(inputs.shape[2])\n",
        "    a = Permute((2, 1))(inputs)\n",
        "    a = Reshape((input_dim, TIME_STEPS))(a) # this line is not useful. It's just to know which dimension is what.\n",
        "    a = Dense(TIME_STEPS, activation='softmax')(a)\n",
        "    if SINGLE_ATTENTION_VECTOR:\n",
        "        a = Lambda(lambda x: K.mean(x, axis=1), name='dim_reduction')(a)\n",
        "        a = RepeatVector(input_dim)(a)\n",
        "    a_probs = Permute((2, 1), name='attention_vec')(a)\n",
        "    # output_attention_mul = merge([inputs, a_probs], name='attention_mul', mode='mul')\n",
        "    output_attention_mul = multiply([inputs, a_probs])\n",
        "    return output_attention_mul"
      ]
    },
    {
      "cell_type": "code",
      "execution_count": null,
      "metadata": {
        "id": "7ShHlYzv14_K"
      },
      "outputs": [],
      "source": [
        "def model_attention_applied_after_lstm():\n",
        "    #inputs = Input(shape=(TIME_STEPS, INPUT_DIM,))\n",
        "    inputs = Input(name='inputs',shape=[max_len])\n",
        "    layer = Embedding(max_words,50,input_length=max_len)(inputs)\n",
        "    \n",
        "    lstm_units = 64\n",
        "    lstm_out = LSTM(lstm_units, return_sequences=True)(layer)\n",
        "    attention_mul = attention_3d_block(lstm_out)\n",
        "    attention_mul = Flatten()(attention_mul)\n",
        "    output = Dense(1, activation='sigmoid')(attention_mul)\n",
        "    model = Model(inputs=[inputs], outputs=output)\n",
        "    return model"
      ]
    },
    {
      "cell_type": "code",
      "execution_count": null,
      "metadata": {
        "id": "jJr-7XXbs6Tv"
      },
      "outputs": [],
      "source": [
        "#from keras.layers import merge\n",
        "from keras.layers import multiply\n",
        "from keras.layers.core import *\n",
        "#from keras.layers.recurrent import LSTM\n",
        "from keras.models import *\n",
        "\n",
        "from keras.utils.vis_utils import plot_model"
      ]
    },
    {
      "cell_type": "code",
      "execution_count": null,
      "metadata": {
        "id": "7eIzD9CV-qAm"
      },
      "outputs": [],
      "source": [
        "INPUT_DIM = 50\n",
        "TIME_STEPS = max_len"
      ]
    },
    {
      "cell_type": "code",
      "execution_count": null,
      "metadata": {
        "colab": {
          "base_uri": "https://localhost:8080/"
        },
        "id": "bnUxNSGB-tFM",
        "outputId": "cc9ff92f-6780-41a7-9564-8576b8fc4f85"
      },
      "outputs": [
        {
          "output_type": "stream",
          "name": "stdout",
          "text": [
            "Model: \"model\"\n",
            "__________________________________________________________________________________________________\n",
            " Layer (type)                   Output Shape         Param #     Connected to                     \n",
            "==================================================================================================\n",
            " inputs (InputLayer)            [(None, 150)]        0           []                               \n",
            "                                                                                                  \n",
            " embedding (Embedding)          (None, 150, 50)      50000       ['inputs[0][0]']                 \n",
            "                                                                                                  \n",
            " lstm (LSTM)                    (None, 150, 64)      29440       ['embedding[0][0]']              \n",
            "                                                                                                  \n",
            " permute (Permute)              (None, 64, 150)      0           ['lstm[0][0]']                   \n",
            "                                                                                                  \n",
            " reshape (Reshape)              (None, 64, 150)      0           ['permute[0][0]']                \n",
            "                                                                                                  \n",
            " dense (Dense)                  (None, 64, 150)      22650       ['reshape[0][0]']                \n",
            "                                                                                                  \n",
            " attention_vec (Permute)        (None, 150, 64)      0           ['dense[0][0]']                  \n",
            "                                                                                                  \n",
            " multiply (Multiply)            (None, 150, 64)      0           ['lstm[0][0]',                   \n",
            "                                                                  'attention_vec[0][0]']          \n",
            "                                                                                                  \n",
            " flatten (Flatten)              (None, 9600)         0           ['multiply[0][0]']               \n",
            "                                                                                                  \n",
            " dense_1 (Dense)                (None, 1)            9601        ['flatten[0][0]']                \n",
            "                                                                                                  \n",
            "==================================================================================================\n",
            "Total params: 111,691\n",
            "Trainable params: 111,691\n",
            "Non-trainable params: 0\n",
            "__________________________________________________________________________________________________\n"
          ]
        }
      ],
      "source": [
        "m = model_attention_applied_after_lstm()\n",
        "m.summary()"
      ]
    },
    {
      "cell_type": "code",
      "execution_count": null,
      "metadata": {
        "id": "9v2DSmZv_W8e"
      },
      "outputs": [],
      "source": [
        "import tensorflow as tf"
      ]
    },
    {
      "cell_type": "code",
      "execution_count": null,
      "metadata": {
        "colab": {
          "base_uri": "https://localhost:8080/"
        },
        "id": "EjBgUW1k-xCB",
        "outputId": "98f0d25b-2ca5-4633-9566-8e2967c9fc52"
      },
      "outputs": [
        {
          "output_type": "stream",
          "name": "stdout",
          "text": [
            "Epoch 1/15\n",
            "427/427 [==============================] - 17s 34ms/step - loss: 0.3491 - accuracy: 0.8420 - recall_7: 0.9341 - precision_7: 0.8341 - val_loss: 0.1989 - val_accuracy: 0.9255 - val_recall_7: 0.9430 - val_precision_7: 0.9393\n",
            "Epoch 2/15\n",
            "427/427 [==============================] - 14s 33ms/step - loss: 0.1873 - accuracy: 0.9282 - recall_7: 0.9433 - precision_7: 0.9423 - val_loss: 0.1733 - val_accuracy: 0.9315 - val_recall_7: 0.9338 - val_precision_7: 0.9567\n",
            "Epoch 3/15\n",
            "427/427 [==============================] - 14s 33ms/step - loss: 0.1714 - accuracy: 0.9330 - recall_7: 0.9480 - precision_7: 0.9455 - val_loss: 0.1645 - val_accuracy: 0.9362 - val_recall_7: 0.9553 - val_precision_7: 0.9444\n",
            "Epoch 4/15\n",
            "427/427 [==============================] - 14s 33ms/step - loss: 0.1573 - accuracy: 0.9380 - recall_7: 0.9504 - precision_7: 0.9508 - val_loss: 0.1524 - val_accuracy: 0.9405 - val_recall_7: 0.9513 - val_precision_7: 0.9544\n",
            "Epoch 5/15\n",
            "427/427 [==============================] - 14s 32ms/step - loss: 0.1455 - accuracy: 0.9432 - recall_7: 0.9542 - precision_7: 0.9552 - val_loss: 0.1473 - val_accuracy: 0.9434 - val_recall_7: 0.9608 - val_precision_7: 0.9502\n",
            "Epoch 6/15\n",
            "427/427 [==============================] - 14s 33ms/step - loss: 0.1327 - accuracy: 0.9487 - recall_7: 0.9605 - precision_7: 0.9579 - val_loss: 0.1479 - val_accuracy: 0.9458 - val_recall_7: 0.9566 - val_precision_7: 0.9575\n",
            "Epoch 7/15\n",
            "427/427 [==============================] - 14s 32ms/step - loss: 0.1236 - accuracy: 0.9517 - recall_7: 0.9625 - precision_7: 0.9606 - val_loss: 0.1398 - val_accuracy: 0.9483 - val_recall_7: 0.9537 - val_precision_7: 0.9640\n",
            "Epoch 8/15\n",
            "427/427 [==============================] - 14s 33ms/step - loss: 0.1175 - accuracy: 0.9548 - recall_7: 0.9647 - precision_7: 0.9633 - val_loss: 0.1387 - val_accuracy: 0.9484 - val_recall_7: 0.9623 - val_precision_7: 0.9563\n",
            "Epoch 9/15\n",
            "427/427 [==============================] - 14s 33ms/step - loss: 0.1104 - accuracy: 0.9586 - recall_7: 0.9679 - precision_7: 0.9663 - val_loss: 0.1463 - val_accuracy: 0.9434 - val_recall_7: 0.9400 - val_precision_7: 0.9695\n",
            "Epoch 10/15\n",
            "427/427 [==============================] - 14s 33ms/step - loss: 0.1033 - accuracy: 0.9611 - recall_7: 0.9701 - precision_7: 0.9680 - val_loss: 0.1350 - val_accuracy: 0.9486 - val_recall_7: 0.9601 - val_precision_7: 0.9585\n",
            "Epoch 11/15\n",
            "427/427 [==============================] - 14s 32ms/step - loss: 0.0962 - accuracy: 0.9643 - recall_7: 0.9718 - precision_7: 0.9713 - val_loss: 0.1420 - val_accuracy: 0.9472 - val_recall_7: 0.9610 - val_precision_7: 0.9556\n",
            "Epoch 12/15\n",
            "427/427 [==============================] - 14s 33ms/step - loss: 0.0895 - accuracy: 0.9666 - recall_7: 0.9729 - precision_7: 0.9739 - val_loss: 0.1577 - val_accuracy: 0.9466 - val_recall_7: 0.9567 - val_precision_7: 0.9587\n",
            "Epoch 13/15\n",
            "427/427 [==============================] - 14s 32ms/step - loss: 0.0845 - accuracy: 0.9686 - recall_7: 0.9744 - precision_7: 0.9755 - val_loss: 0.1534 - val_accuracy: 0.9471 - val_recall_7: 0.9669 - val_precision_7: 0.9502\n",
            "Epoch 14/15\n",
            "427/427 [==============================] - 15s 36ms/step - loss: 0.0803 - accuracy: 0.9701 - recall_7: 0.9760 - precision_7: 0.9763 - val_loss: 0.1651 - val_accuracy: 0.9426 - val_recall_7: 0.9703 - val_precision_7: 0.9407\n",
            "Epoch 15/15\n",
            "427/427 [==============================] - 14s 33ms/step - loss: 0.0750 - accuracy: 0.9725 - recall_7: 0.9779 - precision_7: 0.9783 - val_loss: 0.1672 - val_accuracy: 0.9442 - val_recall_7: 0.9658 - val_precision_7: 0.9470\n"
          ]
        }
      ],
      "source": [
        "m.compile(optimizer='adam', loss='binary_crossentropy', metrics=['accuracy',tf.keras.metrics.Recall(),tf.keras.metrics.Precision()]\n",
        "# metrics=[tf.keras.metrics.Accuracy(),\n",
        "# tf.keras.metrics.Precision(),\n",
        "# tf.keras.metrics.Recall(),\n",
        "# tf.keras.metrics.AUC()\n",
        "# ]\n",
        ")\n",
        "# history=m.fit(sequences_matrix,Y_train,batch_size=128,epochs=300,\n",
        "#            validation_split=0.2,callbacks=[EarlyStopping(monitor='val_loss',min_delta=0.0001)])\n",
        "history=m.fit(sequences_matrix,Y_train,batch_size=128,epochs=15,\n",
        "          validation_split=0.2)"
      ]
    },
    {
      "cell_type": "markdown",
      "source": [],
      "metadata": {
        "id": "U2kTW61mrM2l"
      }
    },
    {
      "cell_type": "code",
      "source": [
        "test_sequences = tok.texts_to_sequences(X_test)\n",
        "test_sequences_matrix = pad_sequences(test_sequences,maxlen=max_len)\n",
        "accr = m.evaluate(test_sequences_matrix,Y_test)\n",
        "print(accr)\n",
        "#print('Test set\\n  Loss: {:0.3f}\\n  Accuracy: {:0.3f}'.format(accr[0],accr[1]))"
      ],
      "metadata": {
        "colab": {
          "base_uri": "https://localhost:8080/"
        },
        "id": "YUmm0e1TSq7h",
        "outputId": "6594eb47-af2f-49da-a481-634d516cf691"
      },
      "execution_count": null,
      "outputs": [
        {
          "output_type": "stream",
          "name": "stdout",
          "text": [
            "237/237 [==============================] - 2s 9ms/step - loss: 0.1767 - accuracy: 0.9406 - recall_7: 0.9646 - precision_7: 0.9415\n",
            "[0.17670704424381256, 0.9406411051750183, 0.9646336436271667, 0.9415047764778137]\n"
          ]
        }
      ]
    },
    {
      "cell_type": "code",
      "source": [
        "from sklearn.metrics import classification_report\n",
        "y_pred=m.predict(test_sequences_matrix)\n",
        "\n",
        "y_pred[y_pred<0.5]=0\n",
        "y_pred[y_pred>=0.5]=1\n",
        "print(y_pred)\n",
        "print(Y_test)\n",
        "print(classification_report(Y_test,y_pred))"
      ],
      "metadata": {
        "colab": {
          "base_uri": "https://localhost:8080/"
        },
        "id": "qggtG4KeyQYz",
        "outputId": "e338e078-b737-4f35-bd9a-01c4ce7418e3"
      },
      "execution_count": null,
      "outputs": [
        {
          "output_type": "stream",
          "name": "stdout",
          "text": [
            "237/237 [==============================] - 2s 8ms/step\n",
            "[[1.]\n",
            " [1.]\n",
            " [1.]\n",
            " ...\n",
            " [1.]\n",
            " [1.]\n",
            " [0.]]\n",
            "[[1]\n",
            " [1]\n",
            " [1]\n",
            " ...\n",
            " [1]\n",
            " [1]\n",
            " [0]]\n",
            "              precision    recall  f1-score   support\n",
            "\n",
            "           0       0.94      0.90      0.92      2859\n",
            "           1       0.94      0.96      0.95      4722\n",
            "\n",
            "    accuracy                           0.94      7581\n",
            "   macro avg       0.94      0.93      0.94      7581\n",
            "weighted avg       0.94      0.94      0.94      7581\n",
            "\n"
          ]
        }
      ]
    },
    {
      "cell_type": "code",
      "source": [
        "from sklearn.metrics import roc_curve\n",
        "y_pred_keras = m.predict(test_sequences_matrix).ravel()\n",
        "fpr_keras, tpr_keras, thresholds_keras = roc_curve(Y_test, y_pred_keras)"
      ],
      "metadata": {
        "colab": {
          "base_uri": "https://localhost:8080/"
        },
        "id": "9hG_nWWoUAn3",
        "outputId": "79ccbc61-eb7e-474d-f7f6-60fe91fb9993"
      },
      "execution_count": null,
      "outputs": [
        {
          "output_type": "stream",
          "name": "stdout",
          "text": [
            "237/237 [==============================] - 2s 8ms/step\n"
          ]
        }
      ]
    },
    {
      "cell_type": "code",
      "source": [
        "from sklearn.metrics import auc\n",
        "auc_keras = auc(fpr_keras, tpr_keras)"
      ],
      "metadata": {
        "id": "YceIlN8uUZWZ"
      },
      "execution_count": null,
      "outputs": []
    },
    {
      "cell_type": "code",
      "source": [
        "from keras import backend as K\n",
        "def recall_m(y_true, y_pred):\n",
        "    true_positives = K.sum(K.round(K.clip(y_true * y_pred, 0, 1)))\n",
        "    possible_positives = K.sum(K.round(K.clip(y_true, 0, 1)))\n",
        "    recall = true_positives / (possible_positives + K.epsilon())\n",
        "    return recall\n",
        "\n",
        "def precision_m(y_true, y_pred):\n",
        "    true_positives = K.sum(K.round(K.clip(y_true * y_pred, 0, 1)))\n",
        "    predicted_positives = K.sum(K.round(K.clip(y_pred, 0, 1)))\n",
        "    precision = true_positives / (predicted_positives + K.epsilon())\n",
        "    return precision\n",
        "\n",
        "def f1_m(y_true, y_pred):\n",
        "    precision = precision_m(y_true, y_pred)\n",
        "    recall = recall_m(y_true, y_pred)\n",
        "    return 2*((precision*recall)/(precision+recall+K.epsilon()))"
      ],
      "metadata": {
        "id": "lNbV1okPUtPD"
      },
      "execution_count": null,
      "outputs": []
    },
    {
      "cell_type": "code",
      "source": [
        "plt.figure(1)\n",
        "plt.plot([0, 1], [0, 1], 'k--')\n",
        "plt.plot(fpr_keras, tpr_keras, label='Keras (area = {:.3f})'.format(auc_keras))\n",
        "plt.xlabel('False positive rate')\n",
        "plt.ylabel('True positive rate')\n",
        "plt.title('ROC curve')\n",
        "plt.legend(loc='best')\n",
        "plt.show()"
      ],
      "metadata": {
        "colab": {
          "base_uri": "https://localhost:8080/",
          "height": 295
        },
        "id": "ccKSI4TpUUcV",
        "outputId": "f5749c80-1628-4fa3-8ee3-edd5840c5b35"
      },
      "execution_count": null,
      "outputs": [
        {
          "output_type": "display_data",
          "data": {
            "text/plain": [
              "<Figure size 432x288 with 1 Axes>"
            ],
            "image/png": "[encoded data removed]"
          },
          "metadata": {
            "needs_background": "light"
          }
        }
      ]
    },
    {
      "cell_type": "code",
      "source": [
        "import keras\n",
        "from matplotlib import pyplot as plt\n",
        "plt.plot(history.history['accuracy'])\n",
        "plt.plot(history.history['val_accuracy'])\n",
        "plt.title('model accuracy')\n",
        "plt.ylabel('accuracy')\n",
        "plt.xlabel('epoch')\n",
        "plt.legend(['train', 'val'], loc='upper left')\n",
        "plt.show()"
      ],
      "metadata": {
        "colab": {
          "base_uri": "https://localhost:8080/",
          "height": 295
        },
        "id": "jBkCsFTCVpsH",
        "outputId": "8c2e4e57-10cb-48b9-c68c-19c636007a59"
      },
      "execution_count": null,
      "outputs": [
        {
          "output_type": "display_data",
          "data": {
            "text/plain": [
              "<Figure size 432x288 with 1 Axes>"
            ],
            "image/png": "[encoded data removed]"
          },
          "metadata": {
            "needs_background": "light"
          }
        }
      ]
    }
  ],
  "metadata": {
    "colab": {
      "provenance": []
    },
    "gpuClass": "standard",
    "kernelspec": {
      "display_name": "Python 3",
      "name": "python3"
    },
    "language_info": {
      "name": "python"
    },
    "accelerator": "GPU"
  },
  "nbformat": 4,
  "nbformat_minor": 0
}